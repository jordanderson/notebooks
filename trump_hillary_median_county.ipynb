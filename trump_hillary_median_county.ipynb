{
 "cells": [
  {
   "cell_type": "markdown",
   "metadata": {},
   "source": [
    "# 2016 Presidential Vote Median Counties, by Population\n",
    "\n",
    "A lot of people have sought to explain the differences between Trump voters and Clinton voters in 2016. I was curious to find out what the median county for each candidate looks like, when ranked by population. You could calculate a median on any number of aggregate county-level demographic data or attributes: geographic area, educational attainment, household income, average age, etc."
   ]
  },
  {
   "cell_type": "code",
   "execution_count": 3,
   "metadata": {},
   "outputs": [],
   "source": [
    "import pandas as pd\n",
    "\n",
    "# I used Tony McGovern's county-level results as the source of data: https://github.com/tonmcg/US_County_Level_Election_Results_08-16\n",
    "county_results = pd.read_csv(\"https://raw.githubusercontent.com/tonmcg/US_County_Level_Election_Results_08-16/master/2016_US_County_Level_Presidential_Results.csv\")\n"
   ]
  },
  {
   "cell_type": "code",
   "execution_count": 35,
   "metadata": {},
   "outputs": [
    {
     "data": {
      "text/plain": [
       "Unnamed: 0                  415\n",
       "votes_dem                 29514\n",
       "votes_gop                 12691\n",
       "total_votes               44221\n",
       "per_dem                 0.66742\n",
       "per_gop                 0.28699\n",
       "diff                     16,823\n",
       "per_point_diff           38.04%\n",
       "state_abbr                   GA\n",
       "county_name       Clarke County\n",
       "combined_fips             13059\n",
       "Name: 415, dtype: object"
      ]
     },
     "execution_count": 35,
     "metadata": {},
     "output_type": "execute_result"
    }
   ],
   "source": [
    "hillary_median = county_results.loc[county_results['per_dem'] > 0.50]['total_votes'].median()\n",
    "county_results.loc[county_results['total_votes'] == hillary_median].iloc[0]"
   ]
  },
  {
   "cell_type": "code",
   "execution_count": 34,
   "metadata": {},
   "outputs": [
    {
     "data": {
      "text/plain": [
       "Unnamed: 0                   815\n",
       "votes_dem                   2252\n",
       "votes_gop                   6839\n",
       "total_votes                 9530\n",
       "per_dem                 0.236306\n",
       "per_gop                 0.717629\n",
       "diff                       4,587\n",
       "per_point_diff            48.13%\n",
       "state_abbr                    IN\n",
       "county_name       Fayette County\n",
       "combined_fips              18041\n",
       "Name: 815, dtype: object"
      ]
     },
     "execution_count": 34,
     "metadata": {},
     "output_type": "execute_result"
    }
   ],
   "source": [
    "trump_median = county_results.loc[county_results['per_gop'] > 0.50]['total_votes'].median()\n",
    "county_results.sort_values(by='total_votes').loc[county_results['total_votes'] >= trump_median].iloc[0]"
   ]
  },
  {
   "cell_type": "code",
   "execution_count": null,
   "metadata": {},
   "outputs": [],
   "source": []
  }
 ],
 "metadata": {
  "kernelspec": {
   "display_name": "Python 3",
   "language": "python",
   "name": "python3"
  },
  "language_info": {
   "codemirror_mode": {
    "name": "ipython",
    "version": 3
   },
   "file_extension": ".py",
   "mimetype": "text/x-python",
   "name": "python",
   "nbconvert_exporter": "python",
   "pygments_lexer": "ipython3",
   "version": "3.6.5"
  }
 },
 "nbformat": 4,
 "nbformat_minor": 2
}
